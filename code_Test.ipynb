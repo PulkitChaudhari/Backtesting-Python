{
  "nbformat": 4,
  "nbformat_minor": 0,
  "metadata": {
    "colab": {
      "provenance": [],
      "include_colab_link": true
    },
    "kernelspec": {
      "name": "python3",
      "display_name": "Python 3"
    },
    "language_info": {
      "name": "python"
    }
  },
  "cells": [
    {
      "cell_type": "markdown",
      "metadata": {
        "id": "view-in-github",
        "colab_type": "text"
      },
      "source": [
        "<a href=\"https://colab.research.google.com/github/PulkitChaudhari/Backtesting-Python/blob/main/code_Test.ipynb\" target=\"_parent\"><img src=\"https://colab.research.google.com/assets/colab-badge.svg\" alt=\"Open In Colab\"/></a>"
      ]
    },
    {
      "cell_type": "code",
      "metadata": {
        "id": "HTncGSFt8TwV"
      },
      "source": [
        "import cv2\n",
        "import tensorflow as tf"
      ],
      "execution_count": 10,
      "outputs": []
    },
    {
      "cell_type": "markdown",
      "metadata": {
        "id": "ZiE1WZO-_PjY"
      },
      "source": [
        "Importing Tensorflow and OpenCV libraries"
      ]
    },
    {
      "cell_type": "code",
      "source": [
        "from google.colab import drive\n",
        "drive.mount('/drive')"
      ],
      "metadata": {
        "colab": {
          "base_uri": "https://localhost:8080/"
        },
        "id": "VGh0gRGmuTvQ",
        "outputId": "196d5ef0-fc84-4906-9b54-63cbda48fd6d"
      },
      "execution_count": 11,
      "outputs": [
        {
          "output_type": "stream",
          "name": "stdout",
          "text": [
            "Drive already mounted at /drive; to attempt to forcibly remount, call drive.mount(\"/drive\", force_remount=True).\n"
          ]
        }
      ]
    },
    {
      "cell_type": "code",
      "metadata": {
        "id": "g9IpPyD-8uDG"
      },
      "source": [
        "import os\n",
        "os.chdir('/drive/My Drive/')"
      ],
      "execution_count": 12,
      "outputs": []
    },
    {
      "cell_type": "markdown",
      "metadata": {
        "id": "gfi-KvBh_--X"
      },
      "source": [
        "Importing OS module"
      ]
    },
    {
      "cell_type": "code",
      "metadata": {
        "id": "AudPXiCo8vQN"
      },
      "source": [
        "DATADIR = 'dataset/test'\n",
        "CATAGORIES = [\"freshbanana\",\"rottenbanana\"]"
      ],
      "execution_count": 13,
      "outputs": []
    },
    {
      "cell_type": "markdown",
      "metadata": {
        "id": "Jd_I8zJtAPnv"
      },
      "source": [
        "Creating a directory for data and Catagories for classificiation of fruits into fresh and raw category (here Banana)."
      ]
    },
    {
      "cell_type": "code",
      "metadata": {
        "id": "bi6Ypm1h8yPO"
      },
      "source": [
        "def prepare(filepath):\n",
        "    IMG_SIZE = 50\n",
        "    img_array = cv2.imread(filepath, cv2.IMREAD_GRAYSCALE)\n",
        "    print(img_array)\n",
        "    plt.imshow(img_array)\n",
        "    plt.show()\n",
        "    new_array = cv2.resize(img_array, (IMG_SIZE, IMG_SIZE))\n",
        "    plt.imshow(new_array)\n",
        "    plt.show()\n",
        "    return new_array.reshape(-1, IMG_SIZE, IMG_SIZE, 1)"
      ],
      "execution_count": 21,
      "outputs": []
    },
    {
      "cell_type": "markdown",
      "metadata": {
        "id": "V3EzOi6VA1wH"
      },
      "source": [
        "Creating a function \"prepare\" which greyscales and reshapes the image "
      ]
    },
    {
      "cell_type": "code",
      "metadata": {
        "id": "iRjwoeA68z94"
      },
      "source": [
        "model = tf.keras.models.load_model(\"onefruit-cnn.model\")"
      ],
      "execution_count": 15,
      "outputs": []
    },
    {
      "cell_type": "code",
      "source": [
        "model.save('farmproduceclassifier.h5')"
      ],
      "metadata": {
        "id": "4Rj4zNcn1jY1"
      },
      "execution_count": 8,
      "outputs": []
    },
    {
      "cell_type": "markdown",
      "metadata": {
        "id": "ebvyh4uOB64X"
      },
      "source": [
        "Loading a model"
      ]
    },
    {
      "cell_type": "code",
      "metadata": {
        "id": "gu5xYMlW81zH",
        "colab": {
          "base_uri": "https://localhost:8080/",
          "height": 675
        },
        "outputId": "e96a63fc-11b2-4265-eafe-c6c4ff465cdf"
      },
      "source": [
        "from tqdm import tqdm\n",
        "import matplotlib.pyplot as plt\n",
        "import numpy as np\n",
        "path = '/drive/MyDrive/dataset/test/rottenbanana/Screen Shot 2018-06-12 at 8.59.44 PM.png'\n",
        "prediction = model.predict([prepare(path)])\n",
        "if (prediction[0][0] == 1): print(\"rotten\")\n",
        "else: print(\"fresh\")"
      ],
      "execution_count": 23,
      "outputs": [
        {
          "output_type": "stream",
          "name": "stdout",
          "text": [
            "[[254 254 254 ... 254 254 254]\n",
            " [254 254 254 ... 254 254 254]\n",
            " [254 254 254 ... 254 254 254]\n",
            " ...\n",
            " [255 255 255 ... 255 255 255]\n",
            " [255 255 255 ... 255 255 255]\n",
            " [255 255 255 ... 255 255 255]]\n"
          ]
        },
        {
          "output_type": "display_data",
          "data": {
            "text/plain": [
              "<Figure size 432x288 with 1 Axes>"
            ],
            "image/png": "[encoded data removed]"
          },
          "metadata": {
            "needs_background": "light"
          }
        },
        {
          "output_type": "display_data",
          "data": {
            "text/plain": [
              "<Figure size 432x288 with 1 Axes>"
            ],
            "image/png": "[encoded data removed]"
          },
          "metadata": {
            "needs_background": "light"
          }
        },
        {
          "output_type": "stream",
          "name": "stdout",
          "text": [
            "1/1 [==============================] - 0s 374ms/step\n",
            "rotten\n"
          ]
        }
      ]
    },
    {
      "cell_type": "markdown",
      "metadata": {
        "id": "6bLQigb9CMSg"
      },
      "source": [
        "Predicting if image is Fresh or Rotten"
      ]
    },
    {
      "cell_type": "code",
      "metadata": {
        "id": "7dBTf5Xo84E_",
        "colab": {
          "base_uri": "https://localhost:8080/"
        },
        "outputId": "21ab4e5b-3348-4651-cb51-1ce2dec052fa"
      },
      "source": [
        "testing_data = []\n",
        "IMG_SIZE = 50\n",
        "\n",
        "CATEGORIES = [\"freshbanana\",\"rottenbanana\"]\n",
        "def create_testing_data():\n",
        "    for category in CATEGORIES: \n",
        "\n",
        "        path = os.path.join(DATADIR,category)  \n",
        "        class_num = CATEGORIES.index(category) \n",
        "\n",
        "        for img in tqdm(os.listdir(path)): \n",
        "            try:\n",
        "                img_array = cv2.imread(os.path.join(path,img) ,cv2.IMREAD_GRAYSCALE)\n",
        "                new_array = cv2.resize(img_array, (IMG_SIZE, IMG_SIZE)) \n",
        "                testing_data.append([new_array, class_num])\n",
        "            except Exception as e:\n",
        "                pass\n",
        "           \n",
        "create_testing_data()\n",
        "\n",
        "print(len(testing_data))"
      ],
      "execution_count": null,
      "outputs": [
        {
          "output_type": "stream",
          "name": "stderr",
          "text": [
            "100%|██████████| 381/381 [00:03<00:00, 117.25it/s]\n",
            "100%|██████████| 531/531 [00:04<00:00, 114.57it/s]"
          ]
        },
        {
          "output_type": "stream",
          "name": "stdout",
          "text": [
            "912\n"
          ]
        },
        {
          "output_type": "stream",
          "name": "stderr",
          "text": [
            "\n"
          ]
        }
      ]
    },
    {
      "cell_type": "markdown",
      "metadata": {
        "id": "LSwkmviN0hgn"
      },
      "source": [
        "Creating test data"
      ]
    },
    {
      "cell_type": "code",
      "metadata": {
        "id": "1wygxLzZ85uu",
        "colab": {
          "base_uri": "https://localhost:8080/"
        },
        "outputId": "9d32e972-eaf2-498d-f12e-715f9e80430c"
      },
      "source": [
        "import random\n",
        "\n",
        "random.shuffle(testing_data)\n",
        "X = []\n",
        "y = []\n",
        "import numpy as np\n",
        "for features,label in testing_data:\n",
        "    X.append(features)\n",
        "    y.append(label)\n",
        "\n",
        "print(X[0].reshape(-1, IMG_SIZE, IMG_SIZE, 1))\n",
        "\n",
        "X = np.array(X).reshape(-1, IMG_SIZE, IMG_SIZE, 1)\n",
        "import pickle\n",
        "\n",
        "pickle_out = open(\"ATXNS.pickle\",\"wb\")\n",
        "pickle.dump(X, pickle_out)\n",
        "pickle_out.close()\n",
        "\n",
        "pickle_out = open(\"atyns.pickle\",\"wb\")\n",
        "pickle.dump(y, pickle_out)\n",
        "pickle_out.close()"
      ],
      "execution_count": null,
      "outputs": [
        {
          "output_type": "stream",
          "name": "stdout",
          "text": [
            "[[[[0]\n",
            "   [0]\n",
            "   [0]\n",
            "   ...\n",
            "   [0]\n",
            "   [0]\n",
            "   [0]]\n",
            "\n",
            "  [[0]\n",
            "   [0]\n",
            "   [0]\n",
            "   ...\n",
            "   [0]\n",
            "   [0]\n",
            "   [0]]\n",
            "\n",
            "  [[0]\n",
            "   [0]\n",
            "   [0]\n",
            "   ...\n",
            "   [0]\n",
            "   [0]\n",
            "   [0]]\n",
            "\n",
            "  ...\n",
            "\n",
            "  [[0]\n",
            "   [0]\n",
            "   [0]\n",
            "   ...\n",
            "   [0]\n",
            "   [0]\n",
            "   [0]]\n",
            "\n",
            "  [[0]\n",
            "   [0]\n",
            "   [0]\n",
            "   ...\n",
            "   [0]\n",
            "   [0]\n",
            "   [0]]\n",
            "\n",
            "  [[0]\n",
            "   [0]\n",
            "   [0]\n",
            "   ...\n",
            "   [0]\n",
            "   [0]\n",
            "   [0]]]]\n"
          ]
        }
      ]
    },
    {
      "cell_type": "markdown",
      "metadata": {
        "id": "oFu1D29g8tMT"
      },
      "source": [
        "Shuffing the data using random and serializing data using pickle for writing\n",
        "Pickle is used to serialize data (Image here)"
      ]
    },
    {
      "cell_type": "code",
      "metadata": {
        "id": "s0VMrtGU87RG"
      },
      "source": [
        "import pickle\n",
        "import numpy as np\n",
        "pickle_in = open(\"ATXNS.pickle\",\"rb\")\n",
        "X = pickle.load(pickle_in)\n",
        "\n",
        "pickle_in = open(\"atyns.pickle\",\"rb\")\n",
        "y = pickle.load(pickle_in)\n",
        "\n",
        "X = X/255.0\n",
        "X = np.array(X)\n",
        "y = np.array(y)"
      ],
      "execution_count": null,
      "outputs": []
    },
    {
      "cell_type": "markdown",
      "metadata": {
        "id": "RZsUnheZ8q4c"
      },
      "source": [
        "Loading pickle model for reading and setting RGB norms"
      ]
    },
    {
      "cell_type": "code",
      "metadata": {
        "id": "N14_41HP88jt",
        "colab": {
          "base_uri": "https://localhost:8080/"
        },
        "outputId": "6f760e57-7c55-42ee-e171-913cb9244fd5"
      },
      "source": [
        "results = model.evaluate(X, y, batch_size=128)\n",
        "print('test loss, test acc:', results)"
      ],
      "execution_count": null,
      "outputs": [
        {
          "output_type": "stream",
          "name": "stdout",
          "text": [
            "8/8 [==============================] - 2s 101ms/step - loss: 0.0324 - accuracy: 0.9890\n",
            "test loss, test acc: [0.032404329627752304, 0.9890230298042297]\n"
          ]
        }
      ]
    },
    {
      "cell_type": "markdown",
      "metadata": {
        "id": "EfpLSihy_OMy"
      },
      "source": [
        "Calculating results"
      ]
    }
  ]
}